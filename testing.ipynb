{
 "cells": [
  {
   "cell_type": "code",
   "execution_count": 11,
   "metadata": {},
   "outputs": [],
   "source": [
    "# works w openmmlab2 \n",
    "from mmpose.apis import MMPoseInferencer"
   ]
  },
  {
   "cell_type": "code",
   "execution_count": 16,
   "metadata": {},
   "outputs": [
    {
     "name": "stdout",
     "output_type": "stream",
     "text": [
      "Loads checkpoint by local backend from path: work_dirs/no_depthwise_relu_nochannelwiseatn_teensy/haley.pth\n",
      "Loads checkpoint by http backend from path: https://download.openmmlab.com/mmpose/v1/projects/rtmposev1/rtmdet_nano_8xb32-300e_hand-267f9c8f.pth\n"
     ]
    },
    {
     "name": "stderr",
     "output_type": "stream",
     "text": [
      "/home/haleyso/miniconda3/envs/openmmlab2/lib/python3.8/site-packages/mmdet/apis/det_inferencer.py:154: UserWarning: palette does not exist, random is used by default. You can also set the palette to customize.\n",
      "  warnings.warn(\n"
     ]
    }
   ],
   "source": [
    "# build the inferencer with 2d model config path and checkpoint path/URL\n",
    "inferencer = MMPoseInferencer(\n",
    "    pose2d='configs/hand_2d_keypoint/rtmpose/hand5/no_depthwise_relu_nochannelwiseatn_teensy.py',\n",
    "    pose2d_weights='work_dirs/no_depthwise_relu_nochannelwiseatn_teensy/haley.pth'\n",
    ")\n",
    "\n",
    "img_path = '/home/haleyso/mmpose/data/onehand10k/Test/source/1491.jpg'\n",
    "# folder_path = 'data/onehand10k/Test/source/'\n",
    "# result_generator = inferencer(folder_path, show=True)\n",
    "# results = [result for result in result_generator]"
   ]
  },
  {
   "cell_type": "code",
   "execution_count": 13,
   "metadata": {},
   "outputs": [
    {
     "name": "stdout",
     "output_type": "stream",
     "text": [
      "02/19 00:06:59 - mmengine - \u001b[4m\u001b[97mINFO\u001b[0m - the output image has been saved at vis_results/1491.jpg\n"
     ]
    }
   ],
   "source": [
    "result_generator = inferencer(img_path, vis_out_dir='vis_results')\n",
    "result = next(result_generator)"
   ]
  },
  {
   "cell_type": "code",
   "execution_count": 14,
   "metadata": {},
   "outputs": [
    {
     "data": {
      "text/plain": [
       "defaultdict(list,\n",
       "            {'visualization': [],\n",
       "             'predictions': [[{'keypoints': [[54.8439826965332,\n",
       "                  187.07403564453125],\n",
       "                 [77.19570922851562, 155.3345947265625],\n",
       "                 [88.818603515625, 130.74769592285156],\n",
       "                 [102.2296371459961, 115.99555969238281],\n",
       "                 [115.64067077636719, 99.00824737548828],\n",
       "                 [65.12577819824219, 90.96163177490234],\n",
       "                 [79.87791442871094, 74.42135620117188],\n",
       "                 [99.10039520263672, 80.23280334472656],\n",
       "                 [110.7232894897461, 89.62052917480469],\n",
       "                 [52.16177749633789, 88.72645568847656],\n",
       "                 [63.33763885498047, 63.692527770996094],\n",
       "                 [81.66605377197266, 50.281494140625],\n",
       "                 [99.10039520263672, 42.2348747253418],\n",
       "                 [43.668121337890625, 94.53790283203125],\n",
       "                 [39.197776794433594, 68.16287231445312],\n",
       "                 [53.949913024902344, 51.17556381225586],\n",
       "                 [69.59612274169922, 41.34080505371094],\n",
       "                 [37.409637451171875, 111.52521514892578],\n",
       "                 [28.915985107421875, 88.72645568847656],\n",
       "                 [32.939292907714844, 70.84507751464844],\n",
       "                 [43.668121337890625, 58.3281135559082]],\n",
       "                'keypoint_scores': [0.40870362520217896,\n",
       "                 0.44423726201057434,\n",
       "                 0.44957488775253296,\n",
       "                 0.5425474643707275,\n",
       "                 0.7547929286956787,\n",
       "                 0.406610906124115,\n",
       "                 0.635689914226532,\n",
       "                 0.8345720171928406,\n",
       "                 0.8010768294334412,\n",
       "                 0.4678198993206024,\n",
       "                 0.5248444080352783,\n",
       "                 0.5965301990509033,\n",
       "                 0.953898549079895,\n",
       "                 0.4303057789802551,\n",
       "                 0.5570133924484253,\n",
       "                 0.48598891496658325,\n",
       "                 0.5069040060043335,\n",
       "                 0.3183683156967163,\n",
       "                 0.5142128467559814,\n",
       "                 0.7498444318771362,\n",
       "                 0.7138620615005493],\n",
       "                'bbox': ([17.692712783813477,\n",
       "                  34.54587936401367,\n",
       "                  120.60545349121094,\n",
       "                  194.76303100585938],),\n",
       "                'bbox_score': 0.8603616}]]})"
      ]
     },
     "execution_count": 14,
     "metadata": {},
     "output_type": "execute_result"
    }
   ],
   "source": [
    "result"
   ]
  },
  {
   "cell_type": "code",
   "execution_count": 1,
   "metadata": {},
   "outputs": [],
   "source": [
    "import torch"
   ]
  },
  {
   "cell_type": "code",
   "execution_count": 6,
   "metadata": {},
   "outputs": [
    {
     "data": {
      "text/plain": [
       "(torch.Size([24, 21, 21]), torch.Size([24, 21, 21]), tensor(0))"
      ]
     },
     "execution_count": 6,
     "metadata": {},
     "output_type": "execute_result"
    }
   ],
   "source": [
    "# HELLO 2\n",
    "# torch.Size([24, 21, 128]) torch.Size([24, 21, 128]) torch.Size([24, 128, 21]) torch.Size([24, 21, 21])\n",
    "\n",
    "q = torch.rand([24, 21, 128])\n",
    "k = torch.rand([24, 21, 128])\n",
    "qk = torch.bmm(q, k.permute(0, 2, 1))\n",
    "qk2 = torch.matmul(q, k.permute(0, 2, 1))\n",
    "qk.size(), qk2.size(), torch.sum(qk!=qk2)"
   ]
  },
  {
   "cell_type": "markdown",
   "metadata": {},
   "source": []
  },
  {
   "cell_type": "code",
   "execution_count": 10,
   "metadata": {},
   "outputs": [
    {
     "data": {
      "text/plain": [
       "(torch.Size([24, 21, 512]), torch.Size([24, 21, 512]), tensor(0))"
      ]
     },
     "execution_count": 10,
     "metadata": {},
     "output_type": "execute_result"
    }
   ],
   "source": [
    "# HELLO 3\n",
    "# print(kernel.size(), v.size(), u.size(), x.size())\n",
    "# torch.Size([24, 21, 21]) torch.Size([24, 21, 512]) torch.Size([24, 21, 512]) torch.Size([24, 21, 512])\n",
    "kernel = torch.rand([24, 21, 21])\n",
    "v = torch.rand([24, 21, 512])\n",
    "u = torch.rand([24, 21, 512])\n",
    "\n",
    "x = u * torch.bmm(kernel, v)\n",
    "x2 = u * torch.matmul(kernel, v)\n",
    "x.size(), x2.size(), torch.sum(x!=x2)"
   ]
  },
  {
   "cell_type": "code",
   "execution_count": null,
   "metadata": {},
   "outputs": [],
   "source": []
  }
 ],
 "metadata": {
  "kernelspec": {
   "display_name": "openmmlab2",
   "language": "python",
   "name": "python3"
  },
  "language_info": {
   "codemirror_mode": {
    "name": "ipython",
    "version": 3
   },
   "file_extension": ".py",
   "mimetype": "text/x-python",
   "name": "python",
   "nbconvert_exporter": "python",
   "pygments_lexer": "ipython3",
   "version": "3.8.18"
  }
 },
 "nbformat": 4,
 "nbformat_minor": 2
}
